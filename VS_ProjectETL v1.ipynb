{
 "cells": [
  {
   "cell_type": "markdown",
   "metadata": {},
   "source": [
    "# VS_ProjectETL v1"
   ]
  },
  {
   "cell_type": "code",
   "execution_count": 1,
   "metadata": {
    "scrolled": true
   },
   "outputs": [],
   "source": [
    "# Dependencies \n",
    "import matplotlib.pyplot as plt\n",
    "import pandas as pd\n",
    "# import numpy as np\n",
    "# import gmaps\n",
    "# import os\n",
    "import csv\n",
    "import json\n",
    "# import requests\n",
    "# import time\n",
    "# import scipy.stats as st\n",
    "# from scipy.stats import linregress\n",
    "from sqlalchemy import create_engine\n",
    "#!pip install psycopg2"
   ]
  },
  {
   "cell_type": "code",
   "execution_count": 2,
   "metadata": {},
   "outputs": [],
   "source": [
    "# File to Load\n",
    "Happiness2020_csv = \"Resources/2020.csv\"\n",
    "Happiness2021_csv = \"Resources/2021.csv\"\n",
    "col = \"Resources/Cost_of_Living_Index_2022.csv\"\n",
    "\n",
    "# Creating Dataframes\n",
    "Happiness2020_df = pd.read_csv(Happiness2020_csv)\n",
    "Happiness2021_df = pd.read_csv(Happiness2021_csv)\n",
    "col_df = pd.read_csv(col)"
   ]
  },
  {
   "cell_type": "code",
   "execution_count": 3,
   "metadata": {},
   "outputs": [
    {
     "data": {
      "text/html": [
       "<div>\n",
       "<style scoped>\n",
       "    .dataframe tbody tr th:only-of-type {\n",
       "        vertical-align: middle;\n",
       "    }\n",
       "\n",
       "    .dataframe tbody tr th {\n",
       "        vertical-align: top;\n",
       "    }\n",
       "\n",
       "    .dataframe thead th {\n",
       "        text-align: right;\n",
       "    }\n",
       "</style>\n",
       "<table border=\"1\" class=\"dataframe\">\n",
       "  <thead>\n",
       "    <tr style=\"text-align: right;\">\n",
       "      <th></th>\n",
       "      <th>Country name</th>\n",
       "      <th>Ladder score</th>\n",
       "    </tr>\n",
       "  </thead>\n",
       "  <tbody>\n",
       "    <tr>\n",
       "      <th>0</th>\n",
       "      <td>Finland</td>\n",
       "      <td>7.842</td>\n",
       "    </tr>\n",
       "    <tr>\n",
       "      <th>1</th>\n",
       "      <td>Denmark</td>\n",
       "      <td>7.620</td>\n",
       "    </tr>\n",
       "    <tr>\n",
       "      <th>2</th>\n",
       "      <td>Switzerland</td>\n",
       "      <td>7.571</td>\n",
       "    </tr>\n",
       "    <tr>\n",
       "      <th>3</th>\n",
       "      <td>Iceland</td>\n",
       "      <td>7.554</td>\n",
       "    </tr>\n",
       "    <tr>\n",
       "      <th>4</th>\n",
       "      <td>Netherlands</td>\n",
       "      <td>7.464</td>\n",
       "    </tr>\n",
       "    <tr>\n",
       "      <th>...</th>\n",
       "      <td>...</td>\n",
       "      <td>...</td>\n",
       "    </tr>\n",
       "    <tr>\n",
       "      <th>144</th>\n",
       "      <td>Lesotho</td>\n",
       "      <td>3.512</td>\n",
       "    </tr>\n",
       "    <tr>\n",
       "      <th>145</th>\n",
       "      <td>Botswana</td>\n",
       "      <td>3.467</td>\n",
       "    </tr>\n",
       "    <tr>\n",
       "      <th>146</th>\n",
       "      <td>Rwanda</td>\n",
       "      <td>3.415</td>\n",
       "    </tr>\n",
       "    <tr>\n",
       "      <th>147</th>\n",
       "      <td>Zimbabwe</td>\n",
       "      <td>3.145</td>\n",
       "    </tr>\n",
       "    <tr>\n",
       "      <th>148</th>\n",
       "      <td>Afghanistan</td>\n",
       "      <td>2.523</td>\n",
       "    </tr>\n",
       "  </tbody>\n",
       "</table>\n",
       "<p>149 rows × 2 columns</p>\n",
       "</div>"
      ],
      "text/plain": [
       "    Country name  Ladder score\n",
       "0        Finland         7.842\n",
       "1        Denmark         7.620\n",
       "2    Switzerland         7.571\n",
       "3        Iceland         7.554\n",
       "4    Netherlands         7.464\n",
       "..           ...           ...\n",
       "144      Lesotho         3.512\n",
       "145     Botswana         3.467\n",
       "146       Rwanda         3.415\n",
       "147     Zimbabwe         3.145\n",
       "148  Afghanistan         2.523\n",
       "\n",
       "[149 rows x 2 columns]"
      ]
     },
     "execution_count": 3,
     "metadata": {},
     "output_type": "execute_result"
    }
   ],
   "source": [
    "Happiness2020_df[[\"Country name\",\"Ladder score\"]]\n",
    "Happiness2021_df[[\"Country name\",\"Ladder score\"]]"
   ]
  },
  {
   "cell_type": "code",
   "execution_count": 4,
   "metadata": {},
   "outputs": [
    {
     "data": {
      "text/html": [
       "<div>\n",
       "<style scoped>\n",
       "    .dataframe tbody tr th:only-of-type {\n",
       "        vertical-align: middle;\n",
       "    }\n",
       "\n",
       "    .dataframe tbody tr th {\n",
       "        vertical-align: top;\n",
       "    }\n",
       "\n",
       "    .dataframe thead th {\n",
       "        text-align: right;\n",
       "    }\n",
       "</style>\n",
       "<table border=\"1\" class=\"dataframe\">\n",
       "  <thead>\n",
       "    <tr style=\"text-align: right;\">\n",
       "      <th></th>\n",
       "      <th>Country name</th>\n",
       "      <th>Ladder score_x</th>\n",
       "      <th>Ladder score_y</th>\n",
       "    </tr>\n",
       "  </thead>\n",
       "  <tbody>\n",
       "    <tr>\n",
       "      <th>0</th>\n",
       "      <td>Finland</td>\n",
       "      <td>7.8087</td>\n",
       "      <td>7.842</td>\n",
       "    </tr>\n",
       "    <tr>\n",
       "      <th>1</th>\n",
       "      <td>Denmark</td>\n",
       "      <td>7.6456</td>\n",
       "      <td>7.620</td>\n",
       "    </tr>\n",
       "    <tr>\n",
       "      <th>2</th>\n",
       "      <td>Switzerland</td>\n",
       "      <td>7.5599</td>\n",
       "      <td>7.571</td>\n",
       "    </tr>\n",
       "    <tr>\n",
       "      <th>3</th>\n",
       "      <td>Iceland</td>\n",
       "      <td>7.5045</td>\n",
       "      <td>7.554</td>\n",
       "    </tr>\n",
       "    <tr>\n",
       "      <th>4</th>\n",
       "      <td>Norway</td>\n",
       "      <td>7.4880</td>\n",
       "      <td>7.392</td>\n",
       "    </tr>\n",
       "    <tr>\n",
       "      <th>...</th>\n",
       "      <td>...</td>\n",
       "      <td>...</td>\n",
       "      <td>...</td>\n",
       "    </tr>\n",
       "    <tr>\n",
       "      <th>149</th>\n",
       "      <td>Rwanda</td>\n",
       "      <td>3.3123</td>\n",
       "      <td>3.415</td>\n",
       "    </tr>\n",
       "    <tr>\n",
       "      <th>150</th>\n",
       "      <td>Zimbabwe</td>\n",
       "      <td>3.2992</td>\n",
       "      <td>3.145</td>\n",
       "    </tr>\n",
       "    <tr>\n",
       "      <th>151</th>\n",
       "      <td>South Sudan</td>\n",
       "      <td>2.8166</td>\n",
       "      <td>NaN</td>\n",
       "    </tr>\n",
       "    <tr>\n",
       "      <th>152</th>\n",
       "      <td>Afghanistan</td>\n",
       "      <td>2.5669</td>\n",
       "      <td>2.523</td>\n",
       "    </tr>\n",
       "    <tr>\n",
       "      <th>153</th>\n",
       "      <td>North Macedonia</td>\n",
       "      <td>NaN</td>\n",
       "      <td>5.101</td>\n",
       "    </tr>\n",
       "  </tbody>\n",
       "</table>\n",
       "<p>154 rows × 3 columns</p>\n",
       "</div>"
      ],
      "text/plain": [
       "        Country name  Ladder score_x  Ladder score_y\n",
       "0            Finland          7.8087           7.842\n",
       "1            Denmark          7.6456           7.620\n",
       "2        Switzerland          7.5599           7.571\n",
       "3            Iceland          7.5045           7.554\n",
       "4             Norway          7.4880           7.392\n",
       "..               ...             ...             ...\n",
       "149           Rwanda          3.3123           3.415\n",
       "150         Zimbabwe          3.2992           3.145\n",
       "151      South Sudan          2.8166             NaN\n",
       "152      Afghanistan          2.5669           2.523\n",
       "153  North Macedonia             NaN           5.101\n",
       "\n",
       "[154 rows x 3 columns]"
      ]
     },
     "execution_count": 4,
     "metadata": {},
     "output_type": "execute_result"
    }
   ],
   "source": [
    "# Merge 2020 & 2021 Dataframes\n",
    "Happiness2020to2021_df = pd.merge(Happiness2020_df,Happiness2021_df, how=\"outer\", on=\"Country name\")\n",
    "Happiness2020to2021_df[[\"Country name\",\"Ladder score_x\",\"Ladder score_y\"]]"
   ]
  },
  {
   "cell_type": "code",
   "execution_count": 5,
   "metadata": {},
   "outputs": [
    {
     "data": {
      "text/html": [
       "<div>\n",
       "<style scoped>\n",
       "    .dataframe tbody tr th:only-of-type {\n",
       "        vertical-align: middle;\n",
       "    }\n",
       "\n",
       "    .dataframe tbody tr th {\n",
       "        vertical-align: top;\n",
       "    }\n",
       "\n",
       "    .dataframe thead th {\n",
       "        text-align: right;\n",
       "    }\n",
       "</style>\n",
       "<table border=\"1\" class=\"dataframe\">\n",
       "  <thead>\n",
       "    <tr style=\"text-align: right;\">\n",
       "      <th></th>\n",
       "      <th>Country name</th>\n",
       "      <th>average</th>\n",
       "    </tr>\n",
       "  </thead>\n",
       "  <tbody>\n",
       "    <tr>\n",
       "      <th>0</th>\n",
       "      <td>Finland</td>\n",
       "      <td>7.82535</td>\n",
       "    </tr>\n",
       "    <tr>\n",
       "      <th>1</th>\n",
       "      <td>Denmark</td>\n",
       "      <td>7.63280</td>\n",
       "    </tr>\n",
       "    <tr>\n",
       "      <th>2</th>\n",
       "      <td>Switzerland</td>\n",
       "      <td>7.56545</td>\n",
       "    </tr>\n",
       "    <tr>\n",
       "      <th>3</th>\n",
       "      <td>Iceland</td>\n",
       "      <td>7.52925</td>\n",
       "    </tr>\n",
       "    <tr>\n",
       "      <th>4</th>\n",
       "      <td>Norway</td>\n",
       "      <td>7.44000</td>\n",
       "    </tr>\n",
       "    <tr>\n",
       "      <th>...</th>\n",
       "      <td>...</td>\n",
       "      <td>...</td>\n",
       "    </tr>\n",
       "    <tr>\n",
       "      <th>149</th>\n",
       "      <td>Rwanda</td>\n",
       "      <td>3.36365</td>\n",
       "    </tr>\n",
       "    <tr>\n",
       "      <th>150</th>\n",
       "      <td>Zimbabwe</td>\n",
       "      <td>3.22210</td>\n",
       "    </tr>\n",
       "    <tr>\n",
       "      <th>151</th>\n",
       "      <td>South Sudan</td>\n",
       "      <td>NaN</td>\n",
       "    </tr>\n",
       "    <tr>\n",
       "      <th>152</th>\n",
       "      <td>Afghanistan</td>\n",
       "      <td>2.54495</td>\n",
       "    </tr>\n",
       "    <tr>\n",
       "      <th>153</th>\n",
       "      <td>North Macedonia</td>\n",
       "      <td>NaN</td>\n",
       "    </tr>\n",
       "  </tbody>\n",
       "</table>\n",
       "<p>154 rows × 2 columns</p>\n",
       "</div>"
      ],
      "text/plain": [
       "        Country name  average\n",
       "0            Finland  7.82535\n",
       "1            Denmark  7.63280\n",
       "2        Switzerland  7.56545\n",
       "3            Iceland  7.52925\n",
       "4             Norway  7.44000\n",
       "..               ...      ...\n",
       "149           Rwanda  3.36365\n",
       "150         Zimbabwe  3.22210\n",
       "151      South Sudan      NaN\n",
       "152      Afghanistan  2.54495\n",
       "153  North Macedonia      NaN\n",
       "\n",
       "[154 rows x 2 columns]"
      ]
     },
     "execution_count": 5,
     "metadata": {},
     "output_type": "execute_result"
    }
   ],
   "source": [
    "# Get average of \"happiness index\" between COVID pandemic years 2020 & 2021\n",
    "somethingsimple = (Happiness2020to2021_df[\"Ladder score_x\"] + Happiness2020to2021_df[\"Ladder score_y\"])/2\n",
    "Happiness2020to2021_df[\"average\"] = somethingsimple\n",
    "COVIDHappiness_df = Happiness2020to2021_df[[\"Country name\",\"average\"]]\n",
    "COVIDHappiness_df"
   ]
  },
  {
   "cell_type": "code",
   "execution_count": null,
   "metadata": {},
   "outputs": [],
   "source": []
  },
  {
   "cell_type": "code",
   "execution_count": 6,
   "metadata": {},
   "outputs": [
    {
     "data": {
      "text/html": [
       "<div>\n",
       "<style scoped>\n",
       "    .dataframe tbody tr th:only-of-type {\n",
       "        vertical-align: middle;\n",
       "    }\n",
       "\n",
       "    .dataframe tbody tr th {\n",
       "        vertical-align: top;\n",
       "    }\n",
       "\n",
       "    .dataframe thead th {\n",
       "        text-align: right;\n",
       "    }\n",
       "</style>\n",
       "<table border=\"1\" class=\"dataframe\">\n",
       "  <thead>\n",
       "    <tr style=\"text-align: right;\">\n",
       "      <th></th>\n",
       "      <th>Country name</th>\n",
       "      <th>average</th>\n",
       "    </tr>\n",
       "  </thead>\n",
       "  <tbody>\n",
       "    <tr>\n",
       "      <th>0</th>\n",
       "      <td>Finland</td>\n",
       "      <td>7.82535</td>\n",
       "    </tr>\n",
       "    <tr>\n",
       "      <th>1</th>\n",
       "      <td>Denmark</td>\n",
       "      <td>7.63280</td>\n",
       "    </tr>\n",
       "    <tr>\n",
       "      <th>2</th>\n",
       "      <td>Switzerland</td>\n",
       "      <td>7.56545</td>\n",
       "    </tr>\n",
       "    <tr>\n",
       "      <th>3</th>\n",
       "      <td>Iceland</td>\n",
       "      <td>7.52925</td>\n",
       "    </tr>\n",
       "    <tr>\n",
       "      <th>4</th>\n",
       "      <td>Norway</td>\n",
       "      <td>7.44000</td>\n",
       "    </tr>\n",
       "    <tr>\n",
       "      <th>...</th>\n",
       "      <td>...</td>\n",
       "      <td>...</td>\n",
       "    </tr>\n",
       "    <tr>\n",
       "      <th>146</th>\n",
       "      <td>Botswana</td>\n",
       "      <td>3.47295</td>\n",
       "    </tr>\n",
       "    <tr>\n",
       "      <th>147</th>\n",
       "      <td>Tanzania</td>\n",
       "      <td>3.54960</td>\n",
       "    </tr>\n",
       "    <tr>\n",
       "      <th>149</th>\n",
       "      <td>Rwanda</td>\n",
       "      <td>3.36365</td>\n",
       "    </tr>\n",
       "    <tr>\n",
       "      <th>150</th>\n",
       "      <td>Zimbabwe</td>\n",
       "      <td>3.22210</td>\n",
       "    </tr>\n",
       "    <tr>\n",
       "      <th>152</th>\n",
       "      <td>Afghanistan</td>\n",
       "      <td>2.54495</td>\n",
       "    </tr>\n",
       "  </tbody>\n",
       "</table>\n",
       "<p>148 rows × 2 columns</p>\n",
       "</div>"
      ],
      "text/plain": [
       "    Country name  average\n",
       "0        Finland  7.82535\n",
       "1        Denmark  7.63280\n",
       "2    Switzerland  7.56545\n",
       "3        Iceland  7.52925\n",
       "4         Norway  7.44000\n",
       "..           ...      ...\n",
       "146     Botswana  3.47295\n",
       "147     Tanzania  3.54960\n",
       "149       Rwanda  3.36365\n",
       "150     Zimbabwe  3.22210\n",
       "152  Afghanistan  2.54495\n",
       "\n",
       "[148 rows x 2 columns]"
      ]
     },
     "execution_count": 6,
     "metadata": {},
     "output_type": "execute_result"
    }
   ],
   "source": [
    "# Drop null rows \n",
    "CleanCOVID = COVIDHappiness_df.dropna(how=\"any\")\n",
    "CleanCOVID"
   ]
  },
  {
   "cell_type": "code",
   "execution_count": 7,
   "metadata": {
    "scrolled": true
   },
   "outputs": [
    {
     "data": {
      "image/png": "[encoded data removed]",
      "text/plain": [
       "<Figure size 432x288 with 1 Axes>"
      ]
     },
     "metadata": {
      "needs_background": "light"
     },
     "output_type": "display_data"
    }
   ],
   "source": [
    "# Created a bar plot showing the total number of uber pickups per day over 1 Month in NYC using pyplot.\n",
    "x_axis = CleanCOVID[\"Country name\"]\n",
    "y_axis = CleanCOVID[\"average\"].values\n",
    "\n",
    "plt.bar(x_axis, y_axis, align=\"center\", alpha=0.5)\n",
    "plt.xticks(rotation=\"vertical\")\n",
    "\n",
    "plt.title(\"COVID Happiness\")\n",
    "plt.xlabel(\"Countries\")\n",
    "plt.ylabel(\"Happiness index\")\n",
    "\n",
    "plt.show()\n",
    "\n",
    "# print(\"The below graph observes the impact of summer holidays due to the significant surge or uplift of uber pickups\")\n",
    "# print(\"It can also be observed that there is a wave trend of certain days of the week having higher number of uber pickups\")"
   ]
  },
  {
   "cell_type": "code",
   "execution_count": 8,
   "metadata": {},
   "outputs": [],
   "source": [
    "#print(Happiness2020_df)"
   ]
  },
  {
   "cell_type": "code",
   "execution_count": 9,
   "metadata": {},
   "outputs": [],
   "source": [
    "clean_col_df=col_df.rename(columns={\"Rank\":\"rank\",\n",
    "                                    \"Country\":\"country\",\n",
    "                                    \"Cost of Living Index\":\"cost_of_living_index\",\n",
    "                                    \"Rent Index\":\"rent_index\",\n",
    "                                    \"Cost of Living Plus Rent Index\":\"cost_of_living_plus_rent_index\",\n",
    "                                    \"Groceries Index\":\"groceries_index\",\n",
    "                                    \"Restaurant Price Index\":\"restaurant_price_index\",\n",
    "                                    \"Local Purchasing Power Index\":\"local_purchasing_power_index\",})"
   ]
  },
  {
   "cell_type": "code",
   "execution_count": 10,
   "metadata": {
    "scrolled": true
   },
   "outputs": [],
   "source": [
    "happiness2020_transformed = Happiness2020_df.rename(columns={\"Country name\":\"country_name\",\n",
    "                                                             \"Regional indicator\":\"regional_indicator\",\n",
    "                                                             \"Ladder score\":\"ladder_score\",\n",
    "                                                             \"Standard error of ladder score\": \"standard_error\",\n",
    "                                                             \"Logged GDP per capita\":\"logged_gdp_per_capita\",\n",
    "                                                             \"Social support\":\"social_support\",\n",
    "                                                             \"Healthy life expectancy\":\"healthy_life_expectancy\",\n",
    "                                                             \"Freedom to make life choices\":\"freedom_to_make_life_choices\",\n",
    "                                                             \"Generosity\":\"generosity\",\n",
    "                                                             \"Perceptions of corruption\":\"perceptions_of_corruption\",\n",
    "                                                             \"Ladder score in Dystopia\":\"ladder_score_in_dystopia\",\n",
    "                                                             \"Explained by: Log GDP per capita\":\"explained_by_log_gdp_per_capita\",\n",
    "                                                             \"Explained by: Social support\":\"explained_by_social_support\",\n",
    "                                                             \"Explained by: Healthy life expectancy\":\"explained_by_healthy_life_expectancy\",\n",
    "                                                             \"Explained by: Freedom to make life choices\":\"explained_by_freedom_to_make_life_choices\",\n",
    "                                                             \"Explained by: Generosity\":\"explained_by_generosity\",\n",
    "                                                             \"Explained by: Perceptions of corruption\":\"explained_by_perceptions_of_corruption\",\n",
    "                                                             \"Dystopia + residual\":\"dystopia_residual\"})\n",
    "#print(happiness2020_transformed)"
   ]
  },
  {
   "cell_type": "code",
   "execution_count": 11,
   "metadata": {
    "scrolled": true
   },
   "outputs": [],
   "source": [
    "happiness2021_transformed = Happiness2021_df.rename(columns={\"Country name\":\"country_name\",\n",
    "                                                             \"Regional indicator\":\"regional_indicator\",\n",
    "                                                             \"Ladder score\":\"ladder_score\",\n",
    "                                                             \"Standard error of ladder score\": \"standard_error\",\n",
    "                                                             \"Logged GDP per capita\":\"logged_gdp_per_capita\",\n",
    "                                                             \"Social support\":\"social_support\",\n",
    "                                                             \"Healthy life expectancy\":\"healthy_life_expectancy\",\n",
    "                                                             \"Freedom to make life choices\":\"freedom_to_make_life_choices\",\n",
    "                                                             \"Generosity\":\"generosity\",\n",
    "                                                             \"Perceptions of corruption\":\"perceptions_of_corruption\",\n",
    "                                                             \"Ladder score in Dystopia\":\"ladder_score_in_dystopia\",\n",
    "                                                             \"Explained by: Log GDP per capita\":\"explained_by_log_gdp_per_capita\",\n",
    "                                                             \"Explained by: Social support\":\"explained_by_social_support\",\n",
    "                                                             \"Explained by: Healthy life expectancy\":\"explained_by_healthy_life_expectancy\",\n",
    "                                                             \"Explained by: Freedom to make life choices\":\"explained_by_freedom_to_make_life_choices\",\n",
    "                                                             \"Explained by: Generosity\":\"explained_by_generosity\",\n",
    "                                                             \"Explained by: Perceptions of corruption\":\"explained_by_perceptions_of_corruption\",\n",
    "                                                             \"Dystopia + residual\":\"dystopia_residual\"})\n",
    "#print(happiness2021_transformed)"
   ]
  },
  {
   "cell_type": "code",
   "execution_count": 12,
   "metadata": {},
   "outputs": [],
   "source": [
    "protocol = 'postgresql'\n",
    "username = 'postgres'\n",
    "password = 'postgres'\n",
    "host = 'localhost'\n",
    "port = 5432\n",
    "database_name = 'ETL_Project2'\n",
    "rds_connection_string = f'{protocol}://{username}:{password}@{host}:{port}/{database_name}'\n",
    "engine = create_engine(rds_connection_string)"
   ]
  },
  {
   "cell_type": "code",
   "execution_count": 13,
   "metadata": {
    "scrolled": true
   },
   "outputs": [],
   "source": [
    "#happiness2020_transformed.set_index(\"Country_name\", inplace=True)\n",
    "#print(happiness2020_transformed)"
   ]
  },
  {
   "cell_type": "code",
   "execution_count": 14,
   "metadata": {},
   "outputs": [],
   "source": [
    "#happiness2021_transformed.set_index(\"Country_name\", inplace=True)"
   ]
  },
  {
   "cell_type": "code",
   "execution_count": 15,
   "metadata": {},
   "outputs": [
    {
     "data": {
      "text/plain": [
       "['happiness_2020', 'happiness_2021', 'costofliving']"
      ]
     },
     "execution_count": 15,
     "metadata": {},
     "output_type": "execute_result"
    }
   ],
   "source": [
    "#Confirm tables\n",
    "engine.table_names()"
   ]
  },
  {
   "cell_type": "code",
   "execution_count": 16,
   "metadata": {},
   "outputs": [],
   "source": [
    "#happiness2020_transformed.to_sql(name='happiness_2020', con=engine, if_exists='append', index=False)"
   ]
  },
  {
   "cell_type": "code",
   "execution_count": 17,
   "metadata": {},
   "outputs": [],
   "source": [
    "#happiness2021_transformed.to_sql(name='happiness_2021', con=engine, if_exists='append', index=False)"
   ]
  },
  {
   "cell_type": "code",
   "execution_count": 18,
   "metadata": {},
   "outputs": [],
   "source": [
    "#clean_col_df.to_sql(name='costofliving', con=engine, if_exists='append', index=False)"
   ]
  },
  {
   "cell_type": "code",
   "execution_count": 19,
   "metadata": {},
   "outputs": [],
   "source": [
    "##pandas.read_sql_query(sql, con, index_col=None, coerce_float=True, params=None, parse_dates=None, chunksize=None, dtype=None)"
   ]
  },
  {
   "cell_type": "code",
   "execution_count": 23,
   "metadata": {},
   "outputs": [
    {
     "ename": "ArgumentError",
     "evalue": "Textual column expression 'h' should be explicitly declared with text('h'), or use column('h') for more specificity",
     "output_type": "error",
     "traceback": [
      "\u001b[1;31m---------------------------------------------------------------------------\u001b[0m",
      "\u001b[1;31mArgumentError\u001b[0m                             Traceback (most recent call last)",
      "\u001b[1;32m<ipython-input-23-a8b95c98d4d5>\u001b[0m in \u001b[0;36m<module>\u001b[1;34m\u001b[0m\n\u001b[0;32m      1\u001b[0m \u001b[1;32mfrom\u001b[0m \u001b[0msqlalchemy\u001b[0m\u001b[1;33m.\u001b[0m\u001b[0msql\u001b[0m \u001b[1;32mimport\u001b[0m \u001b[0mselect\u001b[0m\u001b[1;33m\u001b[0m\u001b[1;33m\u001b[0m\u001b[0m\n\u001b[1;32m----> 2\u001b[1;33m \u001b[0ms\u001b[0m \u001b[1;33m=\u001b[0m \u001b[0mselect\u001b[0m\u001b[1;33m(\u001b[0m\u001b[1;34m'happiness_2020'\u001b[0m\u001b[1;33m)\u001b[0m\u001b[1;33m\u001b[0m\u001b[1;33m\u001b[0m\u001b[0m\n\u001b[0m\u001b[0;32m      3\u001b[0m \u001b[0mresult\u001b[0m \u001b[1;33m=\u001b[0m \u001b[0mconn\u001b[0m\u001b[1;33m.\u001b[0m\u001b[0mexecute\u001b[0m\u001b[1;33m(\u001b[0m\u001b[0ms\u001b[0m\u001b[1;33m)\u001b[0m\u001b[1;33m\u001b[0m\u001b[1;33m\u001b[0m\u001b[0m\n",
      "\u001b[1;32m<string>\u001b[0m in \u001b[0;36mselect\u001b[1;34m(columns, whereclause, from_obj, distinct, having, correlate, prefixes, suffixes, **kwargs)\u001b[0m\n",
      "\u001b[1;32m<string>\u001b[0m in \u001b[0;36m__init__\u001b[1;34m(self, columns, whereclause, from_obj, distinct, having, correlate, prefixes, suffixes, **kwargs)\u001b[0m\n",
      "\u001b[1;32m~\\anaconda3\\envs\\PythonData\\lib\\site-packages\\sqlalchemy\\util\\deprecations.py\u001b[0m in \u001b[0;36mwarned\u001b[1;34m(fn, *args, **kwargs)\u001b[0m\n\u001b[0;32m    137\u001b[0m                     )\n\u001b[0;32m    138\u001b[0m \u001b[1;33m\u001b[0m\u001b[0m\n\u001b[1;32m--> 139\u001b[1;33m             \u001b[1;32mreturn\u001b[0m \u001b[0mfn\u001b[0m\u001b[1;33m(\u001b[0m\u001b[1;33m*\u001b[0m\u001b[0margs\u001b[0m\u001b[1;33m,\u001b[0m \u001b[1;33m**\u001b[0m\u001b[0mkwargs\u001b[0m\u001b[1;33m)\u001b[0m\u001b[1;33m\u001b[0m\u001b[1;33m\u001b[0m\u001b[0m\n\u001b[0m\u001b[0;32m    140\u001b[0m \u001b[1;33m\u001b[0m\u001b[0m\n\u001b[0;32m    141\u001b[0m         \u001b[0mdoc\u001b[0m \u001b[1;33m=\u001b[0m \u001b[0mfn\u001b[0m\u001b[1;33m.\u001b[0m\u001b[0m__doc__\u001b[0m \u001b[1;32mis\u001b[0m \u001b[1;32mnot\u001b[0m \u001b[1;32mNone\u001b[0m \u001b[1;32mand\u001b[0m \u001b[0mfn\u001b[0m\u001b[1;33m.\u001b[0m\u001b[0m__doc__\u001b[0m \u001b[1;32mor\u001b[0m \u001b[1;34m\"\"\u001b[0m\u001b[1;33m\u001b[0m\u001b[1;33m\u001b[0m\u001b[0m\n",
      "\u001b[1;32m~\\anaconda3\\envs\\PythonData\\lib\\site-packages\\sqlalchemy\\sql\\selectable.py\u001b[0m in \u001b[0;36m__init__\u001b[1;34m(self, columns, whereclause, from_obj, distinct, having, correlate, prefixes, suffixes, **kwargs)\u001b[0m\n\u001b[0;32m   3102\u001b[0m             \u001b[0mself\u001b[0m\u001b[1;33m.\u001b[0m\u001b[0m_raw_columns\u001b[0m \u001b[1;33m=\u001b[0m \u001b[1;33m[\u001b[0m\u001b[1;33m]\u001b[0m\u001b[1;33m\u001b[0m\u001b[1;33m\u001b[0m\u001b[0m\n\u001b[0;32m   3103\u001b[0m             \u001b[1;32mfor\u001b[0m \u001b[0mc\u001b[0m \u001b[1;32min\u001b[0m \u001b[0mcolumns\u001b[0m\u001b[1;33m:\u001b[0m\u001b[1;33m\u001b[0m\u001b[1;33m\u001b[0m\u001b[0m\n\u001b[1;32m-> 3104\u001b[1;33m                 \u001b[0mc\u001b[0m \u001b[1;33m=\u001b[0m \u001b[0m_interpret_as_column_or_from\u001b[0m\u001b[1;33m(\u001b[0m\u001b[0mc\u001b[0m\u001b[1;33m)\u001b[0m\u001b[1;33m\u001b[0m\u001b[1;33m\u001b[0m\u001b[0m\n\u001b[0m\u001b[0;32m   3105\u001b[0m                 \u001b[1;32mif\u001b[0m \u001b[0misinstance\u001b[0m\u001b[1;33m(\u001b[0m\u001b[0mc\u001b[0m\u001b[1;33m,\u001b[0m \u001b[0mScalarSelect\u001b[0m\u001b[1;33m)\u001b[0m\u001b[1;33m:\u001b[0m\u001b[1;33m\u001b[0m\u001b[1;33m\u001b[0m\u001b[0m\n\u001b[0;32m   3106\u001b[0m                     \u001b[0mc\u001b[0m \u001b[1;33m=\u001b[0m \u001b[0mc\u001b[0m\u001b[1;33m.\u001b[0m\u001b[0mself_group\u001b[0m\u001b[1;33m(\u001b[0m\u001b[0magainst\u001b[0m\u001b[1;33m=\u001b[0m\u001b[0moperators\u001b[0m\u001b[1;33m.\u001b[0m\u001b[0mcomma_op\u001b[0m\u001b[1;33m)\u001b[0m\u001b[1;33m\u001b[0m\u001b[1;33m\u001b[0m\u001b[0m\n",
      "\u001b[1;32m~\\anaconda3\\envs\\PythonData\\lib\\site-packages\\sqlalchemy\\sql\\elements.py\u001b[0m in \u001b[0;36m_interpret_as_column_or_from\u001b[1;34m(element)\u001b[0m\n\u001b[0;32m   4801\u001b[0m         \u001b[1;32mreturn\u001b[0m \u001b[0mColumnClause\u001b[0m\u001b[1;33m(\u001b[0m\u001b[0mstr\u001b[0m\u001b[1;33m(\u001b[0m\u001b[0melement\u001b[0m\u001b[1;33m)\u001b[0m\u001b[1;33m,\u001b[0m \u001b[0mis_literal\u001b[0m\u001b[1;33m=\u001b[0m\u001b[1;32mTrue\u001b[0m\u001b[1;33m)\u001b[0m\u001b[1;33m\u001b[0m\u001b[1;33m\u001b[0m\u001b[0m\n\u001b[0;32m   4802\u001b[0m     \u001b[1;32melse\u001b[0m\u001b[1;33m:\u001b[0m\u001b[1;33m\u001b[0m\u001b[1;33m\u001b[0m\u001b[0m\n\u001b[1;32m-> 4803\u001b[1;33m         \u001b[0m_no_column_coercion\u001b[0m\u001b[1;33m(\u001b[0m\u001b[0melement\u001b[0m\u001b[1;33m)\u001b[0m\u001b[1;33m\u001b[0m\u001b[1;33m\u001b[0m\u001b[0m\n\u001b[0m\u001b[0;32m   4804\u001b[0m     \u001b[1;32mreturn\u001b[0m \u001b[0mColumnClause\u001b[0m\u001b[1;33m(\u001b[0m\u001b[0melement\u001b[0m\u001b[1;33m,\u001b[0m \u001b[0mis_literal\u001b[0m\u001b[1;33m=\u001b[0m\u001b[0mguess_is_literal\u001b[0m\u001b[1;33m)\u001b[0m\u001b[1;33m\u001b[0m\u001b[1;33m\u001b[0m\u001b[0m\n\u001b[0;32m   4805\u001b[0m \u001b[1;33m\u001b[0m\u001b[0m\n",
      "\u001b[1;32m~\\anaconda3\\envs\\PythonData\\lib\\site-packages\\sqlalchemy\\sql\\elements.py\u001b[0m in \u001b[0;36m_no_column_coercion\u001b[1;34m(element)\u001b[0m\n\u001b[0;32m   4707\u001b[0m             \u001b[1;34m\"literal_column\"\u001b[0m\u001b[1;33m:\u001b[0m \u001b[1;34m\"literal_column\"\u001b[0m\u001b[1;33m\u001b[0m\u001b[1;33m\u001b[0m\u001b[0m\n\u001b[0;32m   4708\u001b[0m             \u001b[1;32mif\u001b[0m \u001b[0mguess_is_literal\u001b[0m\u001b[1;33m\u001b[0m\u001b[1;33m\u001b[0m\u001b[0m\n\u001b[1;32m-> 4709\u001b[1;33m             \u001b[1;32melse\u001b[0m \u001b[1;34m\"column\"\u001b[0m\u001b[1;33m,\u001b[0m\u001b[1;33m\u001b[0m\u001b[1;33m\u001b[0m\u001b[0m\n\u001b[0m\u001b[0;32m   4710\u001b[0m         }\n\u001b[0;32m   4711\u001b[0m     )\n",
      "\u001b[1;31mArgumentError\u001b[0m: Textual column expression 'h' should be explicitly declared with text('h'), or use column('h') for more specificity"
     ]
    }
   ],
   "source": [
    "#from sqlalchemy.sql import select\n",
    "#s = select('happiness_2020')\n",
    "#result = conn.execute(s)\n",
    "#for row in result:print(row)\n"
   ]
  },
  {
   "cell_type": "code",
   "execution_count": 24,
   "metadata": {},
   "outputs": [],
   "source": [
    "myQuery = '''SELECT * from happiness_2020'''\n",
    "#engine = sql.create_engine('mssql+pymssql://{}'.format(server))\n",
    "df = pd.read_sql_query(myQuery, engine)\n"
   ]
  },
  {
   "cell_type": "code",
   "execution_count": 25,
   "metadata": {},
   "outputs": [
    {
     "data": {
      "text/plain": [
       "<bound method NDFrame.head of                  country_name  regional_indicator  ladder_score  \\\n",
       "0                     Finland      Western Europe        7.8087   \n",
       "1                     Denmark      Western Europe        7.6456   \n",
       "2                 Switzerland      Western Europe        7.5599   \n",
       "3                     Iceland      Western Europe        7.5045   \n",
       "4                      Norway      Western Europe        7.4880   \n",
       "..                        ...                 ...           ...   \n",
       "148  Central African Republic  Sub-Saharan Africa        3.4759   \n",
       "149                    Rwanda  Sub-Saharan Africa        3.3123   \n",
       "150                  Zimbabwe  Sub-Saharan Africa        3.2992   \n",
       "151               South Sudan  Sub-Saharan Africa        2.8166   \n",
       "152               Afghanistan          South Asia        2.5669   \n",
       "\n",
       "     standard_error  upperwhisker  lowerwhisker  logged_gdp_per_capita  \\\n",
       "0          0.031156      7.869766      7.747634              10.639267   \n",
       "1          0.033492      7.711245      7.579955              10.774001   \n",
       "2          0.035014      7.628528      7.491272              10.979933   \n",
       "3          0.059616      7.621347      7.387653              10.772559   \n",
       "4          0.034837      7.556281      7.419719              11.087804   \n",
       "..              ...           ...           ...                    ...   \n",
       "148        0.115183      3.701658      3.250141               6.625160   \n",
       "149        0.052425      3.415053      3.209547               7.600104   \n",
       "150        0.058674      3.414202      3.184198               7.865712   \n",
       "151        0.107610      3.027516      2.605684               7.425360   \n",
       "152        0.031311      2.628270      2.505530               7.462861   \n",
       "\n",
       "     social_support  healthy_life_expectancy  freedom_to_make_life_choices  \\\n",
       "0          0.954330                71.900825                      0.949172   \n",
       "1          0.955991                72.402504                      0.951444   \n",
       "2          0.942847                74.102448                      0.921337   \n",
       "3          0.974670                73.000000                      0.948892   \n",
       "4          0.952487                73.200783                      0.955750   \n",
       "..              ...                      ...                           ...   \n",
       "148        0.319460                45.200001                      0.640881   \n",
       "149        0.540835                61.098846                      0.900589   \n",
       "150        0.763093                55.617260                      0.711458   \n",
       "151        0.553707                51.000000                      0.451314   \n",
       "152        0.470367                52.590000                      0.396573   \n",
       "\n",
       "     generosity  perceptions_of_corruption  ladder_score_in_dystopia  \\\n",
       "0     -0.059482                   0.195445                  1.972317   \n",
       "1      0.066202                   0.168489                  1.972317   \n",
       "2      0.105911                   0.303728                  1.972317   \n",
       "3      0.246944                   0.711710                  1.972317   \n",
       "4      0.134533                   0.263218                  1.972317   \n",
       "..          ...                        ...                       ...   \n",
       "148    0.082410                   0.891807                  1.972317   \n",
       "149    0.055484                   0.183541                  1.972317   \n",
       "150   -0.072064                   0.810237                  1.972317   \n",
       "151    0.016519                   0.763417                  1.972317   \n",
       "152   -0.096429                   0.933687                  1.972317   \n",
       "\n",
       "     explained_by_log_gdp_per_capita  explained_by_social_support  \\\n",
       "0                           1.285190                     1.499526   \n",
       "1                           1.326949                     1.503449   \n",
       "2                           1.390774                     1.472403   \n",
       "3                           1.326502                     1.547567   \n",
       "4                           1.424207                     1.495173   \n",
       "..                               ...                          ...   \n",
       "148                         0.041072                     0.000000   \n",
       "149                         0.343243                     0.522876   \n",
       "150                         0.425564                     1.047835   \n",
       "151                         0.289083                     0.553279   \n",
       "152                         0.300706                     0.356434   \n",
       "\n",
       "     explained_by_healthy_life_expectancy  \\\n",
       "0                                0.961271   \n",
       "1                                0.979333   \n",
       "2                                1.040533   \n",
       "3                                1.000843   \n",
       "4                                1.008072   \n",
       "..                                    ...   \n",
       "148                              0.000000   \n",
       "149                              0.572383   \n",
       "150                              0.375038   \n",
       "151                              0.208809   \n",
       "152                              0.266052   \n",
       "\n",
       "     explained_by_freedom_to_make_life_choices  explained_by_generosity  \\\n",
       "0                                     0.662317                 0.159670   \n",
       "1                                     0.665040                 0.242793   \n",
       "2                                     0.628954                 0.269056   \n",
       "3                                     0.661981                 0.362330   \n",
       "4                                     0.670201                 0.287985   \n",
       "..                                         ...                      ...   \n",
       "148                                   0.292814                 0.253513   \n",
       "149                                   0.604088                 0.235705   \n",
       "150                                   0.377405                 0.151349   \n",
       "151                                   0.065609                 0.209935   \n",
       "152                                   0.000000                 0.135235   \n",
       "\n",
       "     explained_by_perceptions_of_corruption  dystopia_residual  \n",
       "0                                  0.477857           2.762835  \n",
       "1                                  0.495260           2.432741  \n",
       "2                                  0.407946           2.350267  \n",
       "3                                  0.144541           2.460688  \n",
       "4                                  0.434101           2.168266  \n",
       "..                                      ...                ...  \n",
       "148                                0.028265           2.860198  \n",
       "149                                0.485542           0.548445  \n",
       "150                                0.080929           0.841031  \n",
       "151                                0.111157           1.378751  \n",
       "152                                0.001226           1.507236  \n",
       "\n",
       "[153 rows x 20 columns]>"
      ]
     },
     "execution_count": 25,
     "metadata": {},
     "output_type": "execute_result"
    }
   ],
   "source": [
    "df.head"
   ]
  },
  {
   "cell_type": "code",
   "execution_count": null,
   "metadata": {},
   "outputs": [],
   "source": []
  }
 ],
 "metadata": {
  "anaconda-cloud": {},
  "kernel_info": {
   "name": "python3"
  },
  "kernelspec": {
   "display_name": "Python 3",
   "language": "python",
   "name": "python3"
  },
  "language_info": {
   "codemirror_mode": {
    "name": "ipython",
    "version": 3
   },
   "file_extension": ".py",
   "mimetype": "text/x-python",
   "name": "python",
   "nbconvert_exporter": "python",
   "pygments_lexer": "ipython3",
   "version": "3.6.10"
  },
  "latex_envs": {
   "LaTeX_envs_menu_present": true,
   "autoclose": false,
   "autocomplete": true,
   "bibliofile": "biblio.bib",
   "cite_by": "apalike",
   "current_citInitial": 1,
   "eqLabelWithNumbers": true,
   "eqNumInitial": 1,
   "hotkeys": {
    "equation": "Ctrl-E",
    "itemize": "Ctrl-I"
   },
   "labels_anchors": false,
   "latex_user_defs": false,
   "report_style_numbering": false,
   "user_envs_cfg": false
  },
  "nteract": {
   "version": "0.12.3"
  }
 },
 "nbformat": 4,
 "nbformat_minor": 2
}
